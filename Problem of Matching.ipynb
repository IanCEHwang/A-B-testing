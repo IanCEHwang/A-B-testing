{
 "cells": [
  {
   "cell_type": "markdown",
   "id": "35ce0d4a",
   "metadata": {},
   "source": [
    "## Problem on Matching"
   ]
  },
  {
   "cell_type": "markdown",
   "id": "430098af",
   "metadata": {},
   "source": [
    "Consider the data for 8 fast food restaurants that were part of a study of\n",
    "the effect of raising the minimum wage in NJ. The treatment group is the\n",
    "2 restaurants in NJ and the control group is a set of 6 restaurants in PA\n",
    "(where the minimum wage was not raised). The outcome Y obs\n",
    "i is the number\n",
    "of people employed (including part time employees) at the end of the year.\n",
    "There are two covariates – Xi1, the identify of the fast food chain (Burger\n",
    "King or Kentucy Fried Chicken) and Xi2, employment at the end of the year\n",
    "prior to the increase in the minimum wage."
   ]
  },
  {
   "cell_type": "code",
   "execution_count": 1,
   "id": "889570d0",
   "metadata": {},
   "outputs": [],
   "source": [
    "import pandas as pd"
   ]
  },
  {
   "cell_type": "code",
   "execution_count": 13,
   "id": "0b06b592",
   "metadata": {},
   "outputs": [],
   "source": [
    "obs1 = [\"NJ\" , \"BK\" , 22.5 , 30]\n",
    "obs2 = [\"NJ\" , \"KFC\" , 14 , 12.5]\n",
    "obs3 = [\"PA\" , \"KFC\" , 13.8 , 17]\n",
    "obs4 = [\"PA\" , \"BK\" , 26.5 , 18.5]\n",
    "obs5 = [\"PA\" , \"BK\" , 20 , 19.5]\n",
    "obs6 = [\"PA\" , \"BK\" , 13.5 , 21]\n",
    "obs7 = [\"PA\" , \"BK\" , 32.5 , 26.5]\n",
    "obs8 = [\"PA\" , \"KFC\" , 21 , 23]\n",
    "\n",
    "obs_list = [obs1 , obs2 , obs3 , obs4 , obs5 , obs6 , obs7 , obs8]"
   ]
  },
  {
   "cell_type": "markdown",
   "id": "23d7ee69",
   "metadata": {},
   "source": [
    "We want to use matching to estimate the effect of raising the minimum\n",
    "wage assuming that unconfoundedness holds. We will match a single\n",
    "control unit with each treatment unit (without replacement). Our dis-\n",
    "tance measure is D(i, j) = 100 ∗ I(Xi1 ̸ = Xj1) + |Xi2 − Xj2| where the\n",
    "indicator I is 1 if the two units are different chains and 0 if they are\n",
    "the same chain. Identify the matches for the 2 treatment units"
   ]
  },
  {
   "cell_type": "code",
   "execution_count": 24,
   "id": "6c6e2f7d",
   "metadata": {},
   "outputs": [],
   "source": [
    "def calculate(treatment , control):\n",
    "    score = 0\n",
    "    ### if treatment and control are from same chain\n",
    "    if treatment[1] != control[1]:\n",
    "        score = score + 100\n",
    "    \n",
    "    ### difference between employee counts\n",
    "    score = score + abs(treatment[2] - control[2])\n",
    "    \n",
    "    return round(score , 1)"
   ]
  },
  {
   "cell_type": "markdown",
   "id": "136de39d",
   "metadata": {},
   "source": [
    "### Calculate Distance"
   ]
  },
  {
   "cell_type": "code",
   "execution_count": 38,
   "id": "4ff957b2",
   "metadata": {
    "scrolled": false
   },
   "outputs": [
    {
     "name": "stdout",
     "output_type": "stream",
     "text": [
      "Treatment1 : \n",
      "\n",
      "Distance between [treatment 1 <-> control 3] :  108.7\n",
      "Distance between [treatment 1 <-> control 4] :  4.0\n",
      "Distance between [treatment 1 <-> control 5] :  2.5\n",
      "Distance between [treatment 1 <-> control 6] :  9.0\n",
      "Distance between [treatment 1 <-> control 7] :  10.0\n",
      "Distance between [treatment 1 <-> control 8] :  101.5\n",
      "\n",
      "Closest control group restaurant : [control5] with distance : 2.5\n",
      "------------------------------------------------------------------\n",
      "Treatment2 : \n",
      "\n",
      "Distance between [treatment 2 <-> control 3] :  0.2\n",
      "Distance between [treatment 2 <-> control 4] :  112.5\n",
      "Distance between [treatment 2 <-> control 5] :  106\n",
      "Distance between [treatment 2 <-> control 6] :  100.5\n",
      "Distance between [treatment 2 <-> control 7] :  118.5\n",
      "Distance between [treatment 2 <-> control 8] :  7\n",
      "\n",
      "Closest control group restaurant : [control3] with distance : 0.2\n",
      "------------------------------------------------------------------\n"
     ]
    }
   ],
   "source": [
    "for i in range(2):\n",
    "    print(f\"Treatment{i + 1} : \\n\")\n",
    "    \n",
    "    closest_control = 10000\n",
    "    res_ID = 0\n",
    "    for j in range(2 , 8):\n",
    "        temp_distance = calculate(obs_list[i] , obs_list[j])\n",
    "        if closest_control > temp_distance:\n",
    "            closest_control = temp_distance\n",
    "            res_ID = j + 1\n",
    "        print(f\"Distance between [treatment {i + 1} <-> control {j + 1}] : \" , temp_distance)\n",
    "    \n",
    "    print(f\"\\nClosest control group restaurant : [control{res_ID}] with distance : {closest_control}\")\n",
    "    print(\"------------------------------------------------------------------\")"
   ]
  },
  {
   "cell_type": "markdown",
   "id": "823a5cfd",
   "metadata": {},
   "source": [
    "What is the estimate of the average treatment effect on the treated\n",
    "units (ATT)?\n",
    "Average Treatment Effect of the Treated (ATT) is the average of the\n",
    "individual treatment effects of those treated (hence not the entire population)."
   ]
  },
  {
   "cell_type": "code",
   "execution_count": 39,
   "id": "50a95c17",
   "metadata": {},
   "outputs": [],
   "source": [
    "###With matching"
   ]
  },
  {
   "cell_type": "markdown",
   "id": "7a31c3eb",
   "metadata": {},
   "source": [
    "<center>$ATT$ = $Avg(Treated)$ - $Avg(Control)$<center/>"
   ]
  },
  {
   "cell_type": "code",
   "execution_count": null,
   "id": "cf6f8b97",
   "metadata": {},
   "outputs": [],
   "source": []
  }
 ],
 "metadata": {
  "kernelspec": {
   "display_name": "Python 3 (ipykernel)",
   "language": "python",
   "name": "python3"
  },
  "language_info": {
   "codemirror_mode": {
    "name": "ipython",
    "version": 3
   },
   "file_extension": ".py",
   "mimetype": "text/x-python",
   "name": "python",
   "nbconvert_exporter": "python",
   "pygments_lexer": "ipython3",
   "version": "3.9.6"
  }
 },
 "nbformat": 4,
 "nbformat_minor": 5
}
